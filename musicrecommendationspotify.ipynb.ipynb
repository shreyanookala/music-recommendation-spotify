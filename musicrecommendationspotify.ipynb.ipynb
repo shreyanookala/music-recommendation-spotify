{
 "cells": [
  {
   "cell_type": "markdown",
   "id": "a47b6f0c",
   "metadata": {},
   "source": [
    "# Music Recommendation System\n",
    "\n",
    "This notebook demonstrates how to authenticate with Spotify's API to build a hybrid recommendation system based on input songs."
   ]
  },
  {
   "cell_type": "code",
   "execution_count": 1,
   "id": "595d8963-46ba-42b5-a263-6d852559711c",
   "metadata": {},
   "outputs": [
    {
     "name": "stdout",
     "output_type": "stream",
     "text": [
      "Access token obtained successfully.\n"
     ]
    }
   ],
   "source": [
    "import requests\n",
    "import base64\n",
    "\n",
    "# Replace with your own Client ID and Client Secret\n",
    "CLIENT_ID = '3a6dc0a1f85b43e3afdbd0242b0fc522'\n",
    "CLIENT_SECRET = '484815191bd54ec7b3d4fbcf36c69aed'\n",
    "\n",
    "# Base64 encode the client ID and client secret\n",
    "client_credentials = f\"{CLIENT_ID}:{CLIENT_SECRET}\"\n",
    "client_credentials_base64 = base64.b64encode(client_credentials.encode())\n",
    "\n",
    "# Request the access token\n",
    "token_url = 'https://accounts.spotify.com/api/token'\n",
    "headers = {\n",
    "    'Authorization': f'Basic {client_credentials_base64.decode()}'\n",
    "}\n",
    "data = {\n",
    "    'grant_type': 'client_credentials'\n",
    "}\n",
    "response = requests.post(token_url, data=data, headers=headers)\n",
    "\n",
    "if response.status_code == 200:\n",
    "    access_token = response.json()['access_token']\n",
    "    print(\"Access token obtained successfully.\")\n",
    "else:\n",
    "    print(\"Error obtaining access token.\")\n",
    "    exit()"
   ]
  },
  {
   "cell_type": "markdown",
   "id": "cb3484b6",
   "metadata": {},
   "source": [
    "## Importing Libraries\n",
    "Here, we import the necessary libraries for API requests and encoding the Spotify client credentials."
   ]
  },
  {
   "cell_type": "code",
   "execution_count": 4,
   "id": "206244c8-d3e4-45ab-8654-daeacfdaeb0a",
   "metadata": {},
   "outputs": [
    {
     "name": "stdout",
     "output_type": "stream",
     "text": [
      "Requirement already satisfied: spotipy in c:\\users\\user\\appdata\\local\\programs\\python\\python312\\lib\\site-packages (2.24.0)\n",
      "Requirement already satisfied: redis>=3.5.3 in c:\\users\\user\\appdata\\local\\programs\\python\\python312\\lib\\site-packages (from spotipy) (5.1.0)\n",
      "Requirement already satisfied: requests>=2.25.0 in c:\\users\\user\\appdata\\local\\programs\\python\\python312\\lib\\site-packages (from spotipy) (2.32.3)\n",
      "Requirement already satisfied: urllib3>=1.26.0 in c:\\users\\user\\appdata\\local\\programs\\python\\python312\\lib\\site-packages (from spotipy) (2.2.2)\n",
      "Requirement already satisfied: charset-normalizer<4,>=2 in c:\\users\\user\\appdata\\local\\programs\\python\\python312\\lib\\site-packages (from requests>=2.25.0->spotipy) (3.3.2)\n",
      "Requirement already satisfied: idna<4,>=2.5 in c:\\users\\user\\appdata\\local\\programs\\python\\python312\\lib\\site-packages (from requests>=2.25.0->spotipy) (3.7)\n",
      "Requirement already satisfied: certifi>=2017.4.17 in c:\\users\\user\\appdata\\local\\programs\\python\\python312\\lib\\site-packages (from requests>=2.25.0->spotipy) (2024.7.4)\n",
      "Note: you may need to restart the kernel to use updated packages.\n"
     ]
    }
   ],
   "source": [
    "pip install spotipy"
   ]
  },
  {
   "cell_type": "markdown",
   "id": "25f89273",
   "metadata": {},
   "source": [
    "## Access Token Request\n",
    "This code block authenticates with the Spotify API using client credentials and retrieves the access token."
   ]
  },
  {
   "cell_type": "code",
   "execution_count": 2,
   "id": "6dfa7175-b2b8-4f0f-b7be-af5662efb1a9",
   "metadata": {},
   "outputs": [],
   "source": [
    "import pandas as pd\n",
    "import spotipy\n",
    "from spotipy.oauth2 import SpotifyOAuth\n",
    "\n",
    "def get_trending_playlist_data(playlist_id, access_token):\n",
    "    # Set up Spotipy with the access token\n",
    "    sp = spotipy.Spotify(auth=access_token)\n",
    "\n",
    "    # Get the tracks from the playlist\n",
    "    playlist_tracks = sp.playlist_tracks(playlist_id, fields='items(track(id, name, artists, album(id, name)))')\n",
    "\n",
    "    # Extract relevant information and store in a list of dictionaries\n",
    "    music_data = []\n",
    "    for track_info in playlist_tracks['items']:\n",
    "        track = track_info['track']\n",
    "        track_name = track['name']\n",
    "        artists = ', '.join([artist['name'] for artist in track['artists']])\n",
    "        album_name = track['album']['name']\n",
    "        album_id = track['album']['id']\n",
    "        track_id = track['id']\n",
    "\n",
    "        # Get audio features for the track\n",
    "        audio_features = sp.audio_features(track_id)[0] if track_id != 'Not available' else None\n",
    "\n",
    "        # Get release date of the album\n",
    "        try:\n",
    "            album_info = sp.album(album_id) if album_id != 'Not available' else None\n",
    "            release_date = album_info['release_date'] if album_info else None\n",
    "        except:\n",
    "            release_date = None\n",
    "\n",
    "        # Get popularity of the track\n",
    "        try:\n",
    "            track_info = sp.track(track_id) if track_id != 'Not available' else None\n",
    "            popularity = track_info['popularity'] if track_info else None\n",
    "        except:\n",
    "            popularity = None\n",
    "\n",
    "        # Add additional track information to the track data\n",
    "        track_data = {\n",
    "            'Track Name': track_name,\n",
    "            'Artists': artists,\n",
    "            'Album Name': album_name,\n",
    "            'Album ID': album_id,\n",
    "            'Track ID': track_id,\n",
    "            'Popularity': popularity,\n",
    "            'Release Date': release_date,\n",
    "            'Duration (ms)': audio_features['duration_ms'] if audio_features else None,\n",
    "            'Explicit': track_info.get('explicit', None),\n",
    "            'External URLs': track_info.get('external_urls', {}).get('spotify', None),\n",
    "            'Danceability': audio_features['danceability'] if audio_features else None,\n",
    "            'Energy': audio_features['energy'] if audio_features else None,\n",
    "            'Key': audio_features['key'] if audio_features else None,\n",
    "            'Loudness': audio_features['loudness'] if audio_features else None,\n",
    "            'Mode': audio_features['mode'] if audio_features else None,\n",
    "            'Speechiness': audio_features['speechiness'] if audio_features else None,\n",
    "            'Acousticness': audio_features['acousticness'] if audio_features else None,\n",
    "            'Instrumentalness': audio_features['instrumentalness'] if audio_features else None,\n",
    "            'Liveness': audio_features['liveness'] if audio_features else None,\n",
    "            'Valence': audio_features['valence'] if audio_features else None,\n",
    "            'Tempo': audio_features['tempo'] if audio_features else None,\n",
    "            # Add more attributes as needed\n",
    "        }\n",
    "\n",
    "        music_data.append(track_data)\n",
    "\n",
    "    # Create a pandas DataFrame from the list of dictionaries\n",
    "    df = pd.DataFrame(music_data)\n",
    "\n",
    "    return df"
   ]
  },
  {
   "cell_type": "markdown",
   "id": "cdd5d950",
   "metadata": {},
   "source": [
    "## Installing Dependencies\n",
    "To use the Spotipy library, the required packages are installed."
   ]
  },
  {
   "cell_type": "code",
   "execution_count": 3,
   "id": "6757a7bc-e3ce-4aae-a9dd-f69ba2370f5c",
   "metadata": {},
   "outputs": [
    {
     "name": "stdout",
     "output_type": "stream",
     "text": [
      "                           Track Name                    Artists  \\\n",
      "0               The Emptiness Machine                Linkin Park   \n",
      "1                         Not Like Us             Kendrick Lamar   \n",
      "2       Guess featuring billie eilish  Charli xcx, Billie Eilish   \n",
      "3                           Big Dawgs         Hanumankind, Kalmi   \n",
      "4                  I Don't Wanna Wait  David Guetta, OneRepublic   \n",
      "..                                ...                        ...   \n",
      "95     Everybody (feat. Lil Uzi Vert)  Nicki Minaj, Lil Uzi Vert   \n",
      "96                         Area Codes                     Kaliii   \n",
      "97  Princess Diana (with Nicki Minaj)     Ice Spice, Nicki Minaj   \n",
      "98                  Edge of Seventeen                       Wuki   \n",
      "99                               BOTH     Tiësto, 21 Savage, BIA   \n",
      "\n",
      "                           Album Name                Album ID  \\\n",
      "0               The Emptiness Machine  6W0Gabv5f3ugnckc6YgfJQ   \n",
      "1                         Not Like Us  5JjnoGJyOxfSZUZtk2rRwZ   \n",
      "2       Guess featuring Billie Eilish  3ThlxfLSy4bfKzxWqmC7VN   \n",
      "3                           Big Dawgs  6Yw4204wbgmpsGTzjXBhYD   \n",
      "4                  I Don't Wanna Wait  0wCLHkBRKcndhMQQpeo8Ji   \n",
      "..                                ...                     ...   \n",
      "95                      Pink Friday 2  2bYCNZfxZrTUv1CHXkz2d2   \n",
      "96                         Area Codes  6uk3hBYbrMsSzufADPjv9K   \n",
      "97  Princess Diana (with Nicki Minaj)  2Q7WBQ794rA9ISPLfqdKjK   \n",
      "98                  Edge of Seventeen  6oeEtPWpOfed7plMHI5qef   \n",
      "99                               BOTH  4WithBxkUVDf6Xe0KbTOkL   \n",
      "\n",
      "                  Track ID  Popularity Release Date  Duration (ms)  Explicit  \\\n",
      "0   2PnlsTsOTLE5jnBnNe2K0A          92   2024-09-05         190428      True   \n",
      "1   6AI3ezQ4o3HUoP6Dhudph3          91   2024-05-04         274192      True   \n",
      "2   3WOhcATHxK2SLNeP5W3v1v          90   2024-08-01         145219     False   \n",
      "3   0OA00aPt3BV10qeMIs3meW          90   2024-07-09         190667      True   \n",
      "4   331l3xABO0HMr1Kkyh2LZq          88   2024-04-05         149668     False   \n",
      "..                     ...         ...          ...            ...       ...   \n",
      "95  5ZJGv7aGdIr9IGpxzSG18T          69   2023-12-08         180870      True   \n",
      "96  7sliFe6W30tPBPh6dvZsIH          68   2023-03-17         139326      True   \n",
      "97  0ZxhtATQ0a6EvQNZ0z6NKV          68   2023-04-14         172125      True   \n",
      "98  5IFSvSEeCAvvBEQ85poqKB          68   2022-10-21         164043     False   \n",
      "99  7mobUfp1aL8A6CdugCMWft          68   2023-08-29         188000     False   \n",
      "\n",
      "                                        External URLs  ...  Energy  Key  \\\n",
      "0   https://open.spotify.com/track/2PnlsTsOTLE5jnB...  ...   0.872    7   \n",
      "1   https://open.spotify.com/track/6AI3ezQ4o3HUoP6...  ...   0.472    1   \n",
      "2   https://open.spotify.com/track/3WOhcATHxK2SLNe...  ...   0.667    7   \n",
      "3   https://open.spotify.com/track/0OA00aPt3BV10qe...  ...   0.745    4   \n",
      "4   https://open.spotify.com/track/331l3xABO0HMr1K...  ...   0.714    1   \n",
      "..                                                ...  ...     ...  ...   \n",
      "95  https://open.spotify.com/track/5ZJGv7aGdIr9IGp...  ...   0.774   11   \n",
      "96  https://open.spotify.com/track/7sliFe6W30tPBPh...  ...   0.388    1   \n",
      "97  https://open.spotify.com/track/0ZxhtATQ0a6EvQN...  ...   0.689    9   \n",
      "98  https://open.spotify.com/track/5IFSvSEeCAvvBEQ...  ...   0.909    5   \n",
      "99  https://open.spotify.com/track/7mobUfp1aL8A6Cd...  ...   0.933    5   \n",
      "\n",
      "    Loudness  Mode  Speechiness  Acousticness  Instrumentalness  Liveness  \\\n",
      "0     -3.344     1       0.0336        0.0156          0.000000    0.1210   \n",
      "1     -7.001     1       0.0776        0.0107          0.000000    0.1410   \n",
      "2     -6.622     1       0.0983        0.0146          0.300000    0.0761   \n",
      "3     -3.202     0       0.1610        0.0235          0.000000    0.3630   \n",
      "4     -4.617     0       0.0309        0.0375          0.000000    0.2320   \n",
      "..       ...   ...          ...           ...               ...       ...   \n",
      "95    -5.525     0       0.2570        0.0262          0.000000    0.2380   \n",
      "96   -10.867     1       0.4910        0.0187          0.000000    0.0876   \n",
      "97    -5.092     1       0.1710        0.1650          0.000000    0.0957   \n",
      "98    -5.999     0       0.0476        0.0324          0.527000    0.0800   \n",
      "99    -3.099     0       0.0832        0.0252          0.000025    0.4930   \n",
      "\n",
      "    Valence    Tempo  \n",
      "0     0.806  184.115  \n",
      "1     0.214  101.061  \n",
      "2     0.618  130.019  \n",
      "3     0.262  180.098  \n",
      "4     0.554  129.976  \n",
      "..      ...      ...  \n",
      "95    0.428  137.959  \n",
      "96    0.507  154.569  \n",
      "97    0.772  147.964  \n",
      "98    0.351  127.997  \n",
      "99    0.523  119.987  \n",
      "\n",
      "[100 rows x 21 columns]\n"
     ]
    }
   ],
   "source": [
    "playlist_id = '37i9dQZF1DX76Wlfdnj7AP'\n",
    "\n",
    "# Call the function to get the music data from the playlist and store it in a DataFrame\n",
    "music_df = get_trending_playlist_data(playlist_id, access_token)\n",
    "\n",
    "# Display the DataFrame\n",
    "print(music_df)"
   ]
  },
  {
   "cell_type": "markdown",
   "id": "05ccbf90",
   "metadata": {},
   "source": [
    "## Generating Hybrid Recommendations\n",
    "The following block retrieves a list of hybrid song recommendations based on the input song name."
   ]
  },
  {
   "cell_type": "code",
   "execution_count": 4,
   "id": "48ea1ccf-6788-497d-b85b-0bf521e6d3ac",
   "metadata": {},
   "outputs": [
    {
     "name": "stdout",
     "output_type": "stream",
     "text": [
      "Track Name          0\n",
      "Artists             0\n",
      "Album Name          0\n",
      "Album ID            0\n",
      "Track ID            0\n",
      "Popularity          0\n",
      "Release Date        0\n",
      "Duration (ms)       0\n",
      "Explicit            0\n",
      "External URLs       0\n",
      "Danceability        0\n",
      "Energy              0\n",
      "Key                 0\n",
      "Loudness            0\n",
      "Mode                0\n",
      "Speechiness         0\n",
      "Acousticness        0\n",
      "Instrumentalness    0\n",
      "Liveness            0\n",
      "Valence             0\n",
      "Tempo               0\n",
      "dtype: int64\n"
     ]
    }
   ],
   "source": [
    "print(music_df.isnull().sum())"
   ]
  },
  {
   "cell_type": "code",
   "execution_count": 5,
   "id": "116ecf16-aae0-4b9f-94fa-e882f0995aed",
   "metadata": {},
   "outputs": [],
   "source": [
    "import pandas as pd\n",
    "import numpy as np\n",
    "from sklearn.model_selection import train_test_split\n",
    "from sklearn.preprocessing import MinMaxScaler\n",
    "from datetime import datetime\n",
    "from sklearn.metrics.pairwise import cosine_similarity\n",
    "\n",
    "data = music_df"
   ]
  },
  {
   "cell_type": "code",
   "execution_count": 6,
   "id": "4134d71d-f607-43ca-a011-ac6d4b1628ef",
   "metadata": {},
   "outputs": [],
   "source": [
    "# Function to calculate weighted popularity scores based on release date\n",
    "def calculate_weighted_popularity(release_date):\n",
    "    # Convert the release date to datetime object\n",
    "    release_date = datetime.strptime(release_date, '%Y-%m-%d')\n",
    "\n",
    "    # Calculate the time span between release date and today's date\n",
    "    time_span = datetime.now() - release_date\n",
    "\n",
    "    # Calculate the weighted popularity score based on time span (e.g., more recent releases have higher weight)\n",
    "    weight = 1 / (time_span.days + 1)\n",
    "    return weight"
   ]
  },
  {
   "cell_type": "code",
   "execution_count": 7,
   "id": "b7d40435-f735-4283-9681-a088cbb524bc",
   "metadata": {},
   "outputs": [],
   "source": [
    "# Normalize the music features using Min-Max scaling\n",
    "scaler = MinMaxScaler()\n",
    "music_features = music_df[['Danceability', 'Energy', 'Key', \n",
    "                           'Loudness', 'Mode', 'Speechiness', 'Acousticness',\n",
    "                           'Instrumentalness', 'Liveness', 'Valence', 'Tempo']].values\n",
    "music_features_scaled = scaler.fit_transform(music_features)"
   ]
  },
  {
   "cell_type": "code",
   "execution_count": 8,
   "id": "361b9b90-c953-4a15-a189-053b605edc41",
   "metadata": {},
   "outputs": [],
   "source": [
    "# a function to get content-based recommendations based on music features\n",
    "def content_based_recommendations(input_song_name, num_recommendations=5):\n",
    "    if input_song_name not in music_df['Track Name'].values:\n",
    "        print(f\"'{input_song_name}' not found in the dataset. Please enter a valid song name.\")\n",
    "        return\n",
    "\n",
    "    # Get the index of the input song in the music DataFrame\n",
    "    input_song_index = music_df[music_df['Track Name'] == input_song_name].index[0]\n",
    "\n",
    "    # Calculate the similarity scores based on music features (cosine similarity)\n",
    "    similarity_scores = cosine_similarity([music_features_scaled[input_song_index]], music_features_scaled)\n",
    "\n",
    "    # Get the indices of the most similar songs\n",
    "    similar_song_indices = similarity_scores.argsort()[0][::-1][1:num_recommendations + 1]\n",
    "\n",
    "    # Get the names of the most similar songs based on content-based filtering\n",
    "    content_based_recommendations = music_df.iloc[similar_song_indices][['Track Name', 'Artists', 'Album Name', 'Release Date', 'Popularity']]\n",
    "\n",
    "    return content_based_recommendations"
   ]
  },
  {
   "cell_type": "code",
   "execution_count": 9,
   "id": "16c48070-c45e-4ccf-96b3-1704b0bb3da6",
   "metadata": {},
   "outputs": [],
   "source": [
    "import pandas as pd\n",
    "\n",
    "def hybrid_recommendations(input_song_name, num_recommendations=5, alpha=0.5):\n",
    "    if input_song_name not in music_df['Track Name'].values:\n",
    "        print(f\"'{input_song_name}' not found in the dataset. Please enter a valid song name.\")\n",
    "        return\n",
    "\n",
    "    content_based_rec = content_based_recommendations(input_song_name, num_recommendations)\n",
    "\n",
    "    popularity_score = music_df.loc[music_df['Track Name'] == input_song_name, 'Popularity'].values[0]\n",
    "\n",
    "    weighted_popularity_score = popularity_score * calculate_weighted_popularity(\n",
    "        music_df.loc[music_df['Track Name'] == input_song_name, 'Release Date'].values[0]\n",
    "    )\n",
    "\n",
    "    new_entry = pd.DataFrame({\n",
    "        'Track Name': [input_song_name],\n",
    "        'Artists': [music_df.loc[music_df['Track Name'] == input_song_name, 'Artists'].values[0]],\n",
    "        'Album Name': [music_df.loc[music_df['Track Name'] == input_song_name, 'Album Name'].values[0]],\n",
    "        'Release Date': [music_df.loc[music_df['Track Name'] == input_song_name, 'Release Date'].values[0]],\n",
    "        'Popularity': [weighted_popularity_score]\n",
    "    })\n",
    "\n",
    "    hybrid_recommendations = pd.concat([content_based_rec, new_entry], ignore_index=True)\n",
    "\n",
    "    hybrid_recommendations = hybrid_recommendations.sort_values(by='Popularity', ascending=False)\n",
    "\n",
    "    hybrid_recommendations = hybrid_recommendations[hybrid_recommendations['Track Name'] != input_song_name]\n",
    "\n",
    "    return hybrid_recommendations"
   ]
  },
  {
   "cell_type": "code",
   "execution_count": 10,
   "id": "db07dbc0-20ed-4eda-9b29-3c5b4e39329a",
   "metadata": {},
   "outputs": [
    {
     "name": "stdout",
     "output_type": "stream",
     "text": [
      "Hybrid recommended songs for 'I'm Good (Blue)':\n",
      "                     Track Name                                     Artists  \\\n",
      "3                       KEEP UP                                     Odetari   \n",
      "4  It's Not Right But It's Okay                            Mr. Belt & Wezol   \n",
      "1                         REACT  Switch Disco, Ella Henderson, Robert Miles   \n",
      "2                 Where You Are                          John Summit, HAYLA   \n",
      "0                          BOTH                      Tiësto, 21 Savage, BIA   \n",
      "\n",
      "                     Album Name Release Date  Popularity  \n",
      "3          KEEP UP // FROSTBITE   2024-07-17        86.0  \n",
      "4  It's Not Right But It's Okay   2024-02-23        80.0  \n",
      "1                         REACT   2023-01-13        71.0  \n",
      "2                 Where You Are   2023-03-03        69.0  \n",
      "0                          BOTH   2023-08-29        68.0  \n"
     ]
    }
   ],
   "source": [
    "input_song_name = \"I'm Good (Blue)\"\n",
    "recommendations = hybrid_recommendations(input_song_name, num_recommendations=5)\n",
    "print(f\"Hybrid recommended songs for '{input_song_name}':\")\n",
    "print(recommendations)"
   ]
  },
  {
   "cell_type": "code",
   "execution_count": null,
   "id": "ed07c409-9469-4ce1-b4de-0dd35ce24e08",
   "metadata": {},
   "outputs": [],
   "source": []
  }
 ],
 "metadata": {
  "kernelspec": {
   "display_name": "Python 3 (ipykernel)",
   "language": "python",
   "name": "python3"
  },
  "language_info": {
   "codemirror_mode": {
    "name": "ipython",
    "version": 3
   },
   "file_extension": ".py",
   "mimetype": "text/x-python",
   "name": "python",
   "nbconvert_exporter": "python",
   "pygments_lexer": "ipython3",
   "version": "3.12.5"
  }
 },
 "nbformat": 4,
 "nbformat_minor": 5
}
